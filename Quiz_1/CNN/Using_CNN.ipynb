{
  "cells": [
    {
      "cell_type": "markdown",
      "metadata": {
        "id": "jDDefb7wOwvp"
      },
      "source": [
        "# Image classification with Convolutional Neural Network (CNN)\n",
        "\n",
        "**Author:** [Khalid Salama](https://www.linkedin.com/in/khalid-salama-24403144/)<br>\n",
        "**Date created:** 2021/01/18<br>\n",
        "**Last modified:** 2021/01/18<br>\n",
        "**Description:** Implementing a Convolutional Neural Network (CNN) model for image classification."
      ]
    },
    {
      "cell_type": "markdown",
      "metadata": {
        "id": "A1HpTl3dOwvp"
      },
      "source": [
        "## Introduction\n",
        "\n",
        "This example implements a Convolutional Neural Network (CNN) model for image classification,\n",
        "and demonstrates it on the CIFAR-100 dataset.\n",
        "The CNN model uses convolutional layers with pooling to extract features from images,\n",
        "followed by dense layers for classification."
      ]
    },
    {
      "cell_type": "markdown",
      "metadata": {
        "id": "BznMYM4BOwvq"
      },
      "source": [
        "## Setup"
      ]
    },
    {
      "cell_type": "code",
      "execution_count": 1,
      "metadata": {
        "id": "I5dp3f2tOwvq"
      },
      "outputs": [],
      "source": [
        "import os\n",
        "\n",
        "os.environ[\"KERAS_BACKEND\"] = \"jax\"  # @param [\"tensorflow\", \"jax\", \"torch\"]\n",
        "\n",
        "import keras\n",
        "from keras import layers\n",
        "from keras import ops\n",
        "\n",
        "import numpy as np\n",
        "import matplotlib.pyplot as plt"
      ]
    },
    {
      "cell_type": "markdown",
      "metadata": {
        "id": "6ZKoW6mNOwvq"
      },
      "source": [
        "## Prepare the data"
      ]
    },
    {
      "cell_type": "code",
      "execution_count": 2,
      "metadata": {
        "colab": {
          "base_uri": "https://localhost:8080/"
        },
        "id": "QyJ7EmyOOwvr",
        "outputId": "fcb8fa1f-7820-4287-a338-3773c074a58f"
      },
      "outputs": [
        {
          "name": "stdout",
          "output_type": "stream",
          "text": [
            "Downloading data from https://www.cs.toronto.edu/~kriz/cifar-100-python.tar.gz\n",
            "\u001b[1m169001437/169001437\u001b[0m \u001b[32m━━━━━━━━━━━━━━━━━━━━\u001b[0m\u001b[37m\u001b[0m \u001b[1m6s\u001b[0m 0us/step\n",
            "x_train shape: (50000, 32, 32, 3) - y_train shape: (50000, 1)\n",
            "x_test shape: (10000, 32, 32, 3) - y_test shape: (10000, 1)\n"
          ]
        }
      ],
      "source": [
        "num_classes = 100\n",
        "input_shape = (32, 32, 3)\n",
        "\n",
        "(x_train, y_train), (x_test, y_test) = keras.datasets.cifar100.load_data()\n",
        "\n",
        "print(f\"x_train shape: {x_train.shape} - y_train shape: {y_train.shape}\")\n",
        "print(f\"x_test shape: {x_test.shape} - y_test shape: {y_test.shape}\")\n"
      ]
    },
    {
      "cell_type": "markdown",
      "metadata": {
        "id": "D09NY6oNOwvr"
      },
      "source": [
        "## Configure the hyperparameters"
      ]
    },
    {
      "cell_type": "code",
      "execution_count": null,
      "metadata": {
        "id": "uUj-whd4Owvr"
      },
      "outputs": [],
      "source": [
        "learning_rate = 0.001\n",
        "weight_decay = 0.0001\n",
        "batch_size = 128  # Reduced for better gradient updates\n",
        "num_epochs = 50  # Increased for better training\n",
        "image_size = 72  # We'll resize input images to this size\n",
        "mlp_head_units = [\n",
        "    2048,\n",
        "    1024,\n",
        "]  # Size of the dense layers of the final classifier\n",
        "\n",
        "# New hyperparameters for improved training\n",
        "initial_learning_rate = 0.001\n",
        "label_smoothing = 0.1\n",
        "dropout_rate = 0.3"
      ]
    },
    {
      "cell_type": "markdown",
      "metadata": {
        "id": "TCG6llz9Owvr"
      },
      "source": [
        "## Use data augmentation"
      ]
    },
    {
      "cell_type": "code",
      "execution_count": null,
      "metadata": {
        "id": "EqkQlgZYOwvs"
      },
      "outputs": [],
      "source": [
        "data_augmentation = keras.Sequential(\n",
        "    [\n",
        "        layers.Normalization(),\n",
        "        layers.Resizing(image_size, image_size),\n",
        "        layers.RandomFlip(\"horizontal\"),\n",
        "        layers.RandomRotation(factor=0.1),  # Increased rotation\n",
        "        layers.RandomZoom(height_factor=0.2, width_factor=0.2),\n",
        "        layers.RandomTranslation(height_factor=0.1, width_factor=0.1),  # Added translation\n",
        "        layers.RandomContrast(factor=0.2),  # Added contrast adjustment\n",
        "        layers.RandomBrightness(factor=0.2),  # Added brightness adjustment\n",
        "    ],\n",
        "    name=\"data_augmentation\",\n",
        ")\n",
        "# Compute the mean and the variance of the training data for normalization.\n",
        "data_augmentation.layers[0].adapt(x_train)"
      ]
    },
    {
      "cell_type": "markdown",
      "metadata": {
        "id": "vCbpyizwOwvs"
      },
      "source": [
        "## Implement multilayer perceptron (MLP)"
      ]
    },
    {
      "cell_type": "code",
      "execution_count": 5,
      "metadata": {
        "id": "t9vc7ZScOwvs"
      },
      "outputs": [],
      "source": [
        "\n",
        "def mlp(x, hidden_units, dropout_rate):\n",
        "    for units in hidden_units:\n",
        "        x = layers.Dense(units, activation=keras.activations.gelu)(x)\n",
        "        x = layers.Dropout(dropout_rate)(x)\n",
        "    return x\n"
      ]
    },
    {
      "cell_type": "markdown",
      "metadata": {
        "id": "qY1MRkfDOwvs"
      },
      "source": [
        "## CNN Architecture\n",
        "\n",
        "We'll build a CNN with convolutional layers for feature extraction followed by dense layers for classification."
      ]
    },
    {
      "cell_type": "markdown",
      "metadata": {
        "id": "bb0c9v13Owvt"
      },
      "source": [
        "## Build the Enhanced CNN model\n",
        "\n",
        "The enhanced CNN model includes several improvements for higher accuracy:\n",
        "- Residual connections to help with gradient flow\n",
        "- Depthwise separable convolutions for efficiency\n",
        "- Better initialization and regularization\n",
        "- Progressive feature extraction with skip connections\n",
        "- Advanced normalization and activation functions\n",
        "\n",
        "The architecture includes:\n",
        "- Convolutional blocks with residual connections\n",
        "- Batch normalization for training stability\n",
        "- Advanced pooling strategies\n",
        "- Depthwise separable convolutions\n",
        "- Progressive dropout rates\n",
        "- Dense layers with better regularization"
      ]
    },
    {
      "cell_type": "code",
      "execution_count": null,
      "metadata": {
        "id": "r0eACAmmOwvt"
      },
      "outputs": [],
      "source": [
        "def residual_block(x, filters, kernel_size=3, stride=1):\n",
        "    \"\"\"Creates a residual block with skip connection\"\"\"\n",
        "    shortcut = x\n",
        "    \n",
        "    # First conv layer\n",
        "    x = layers.Conv2D(filters, kernel_size, strides=stride, padding='same',\n",
        "                     kernel_initializer='he_normal')(x)\n",
        "    x = layers.BatchNormalization()(x)\n",
        "    x = layers.ReLU()(x)\n",
        "    \n",
        "    # Second conv layer\n",
        "    x = layers.Conv2D(filters, kernel_size, strides=1, padding='same',\n",
        "                     kernel_initializer='he_normal')(x)\n",
        "    x = layers.BatchNormalization()(x)\n",
        "    \n",
        "    # Adjust shortcut if needed\n",
        "    if stride != 1 or shortcut.shape[-1] != filters:\n",
        "        shortcut = layers.Conv2D(filters, 1, strides=stride, padding='same',\n",
        "                               kernel_initializer='he_normal')(shortcut)\n",
        "        shortcut = layers.BatchNormalization()(shortcut)\n",
        "    \n",
        "    # Add shortcut and apply activation\n",
        "    x = layers.Add()([x, shortcut])\n",
        "    x = layers.ReLU()(x)\n",
        "    return x\n",
        "\n",
        "def separable_conv_block(x, filters, kernel_size=3, stride=1):\n",
        "    \"\"\"Creates a depthwise separable convolution block\"\"\"\n",
        "    x = layers.SeparableConv2D(filters, kernel_size, strides=stride, padding='same',\n",
        "                              depthwise_initializer='he_normal',\n",
        "                              pointwise_initializer='he_normal')(x)\n",
        "    x = layers.BatchNormalization()(x)\n",
        "    x = layers.ReLU()(x)\n",
        "    return x\n",
        "\n",
        "def create_cnn_classifier():\n",
        "    inputs = keras.Input(shape=input_shape)\n",
        "    # Augment data.\n",
        "    x = data_augmentation(inputs)\n",
        "    \n",
        "    # Initial convolution\n",
        "    x = layers.Conv2D(32, (3, 3), strides=1, padding='same',\n",
        "                     kernel_initializer='he_normal')(x)\n",
        "    x = layers.BatchNormalization()(x)\n",
        "    x = layers.ReLU()(x)\n",
        "    \n",
        "    # First residual block\n",
        "    x = residual_block(x, 64, stride=1)\n",
        "    x = residual_block(x, 64, stride=1)\n",
        "    x = layers.MaxPooling2D((2, 2))(x)\n",
        "    x = layers.Dropout(0.2)(x)\n",
        "    \n",
        "    # Second residual block\n",
        "    x = residual_block(x, 128, stride=1)\n",
        "    x = residual_block(x, 128, stride=1)\n",
        "    x = layers.MaxPooling2D((2, 2))(x)\n",
        "    x = layers.Dropout(0.25)(x)\n",
        "    \n",
        "    # Third block with separable convolutions\n",
        "    x = separable_conv_block(x, 256, stride=1)\n",
        "    x = separable_conv_block(x, 256, stride=1)\n",
        "    x = layers.MaxPooling2D((2, 2))(x)\n",
        "    x = layers.Dropout(0.3)(x)\n",
        "    \n",
        "    # Fourth block\n",
        "    x = residual_block(x, 512, stride=1)\n",
        "    x = layers.GlobalAveragePooling2D()(x)  # Better than Flatten for spatial invariance\n",
        "    x = layers.Dropout(0.4)(x)\n",
        "    \n",
        "    # Dense layers with residual connection\n",
        "    dense_input = x\n",
        "    x = layers.Dense(512, kernel_initializer='he_normal')(x)\n",
        "    x = layers.BatchNormalization()(x)\n",
        "    x = layers.ReLU()(x)\n",
        "    x = layers.Dropout(dropout_rate)(x)\n",
        "    \n",
        "    x = layers.Dense(256, kernel_initializer='he_normal')(x)\n",
        "    x = layers.BatchNormalization()(x)\n",
        "    x = layers.ReLU()(x)\n",
        "    x = layers.Dropout(dropout_rate)(x)\n",
        "    \n",
        "    # Add MLP classification head\n",
        "    features = mlp(x, hidden_units=mlp_head_units, dropout_rate=0.5)\n",
        "    \n",
        "    # Final classification layer\n",
        "    logits = layers.Dense(num_classes, kernel_initializer='he_normal')(features)\n",
        "    \n",
        "    # Create the Keras model\n",
        "    model = keras.Model(inputs=inputs, outputs=logits)\n",
        "    return model"
      ]
    },
    {
      "cell_type": "markdown",
      "metadata": {
        "id": "E5AfzEtOOwvt"
      },
      "source": [
        "## Compile, train, and evaluate the model"
      ]
    },
    {
      "cell_type": "code",
      "execution_count": null,
      "metadata": {
        "colab": {
          "base_uri": "https://localhost:8080/",
          "height": 1000
        },
        "id": "jeN5G9j-Owvt",
        "outputId": "0cf78709-63c9-4fd4-f1aa-02b7626b8eff"
      },
      "outputs": [
        {
          "name": "stdout",
          "output_type": "stream",
          "text": [
            "Epoch 1/10\n",
            "\u001b[1m176/176\u001b[0m \u001b[32m━━━━━━━━━━━━━━━━━━━━\u001b[0m\u001b[37m\u001b[0m \u001b[1m420s\u001b[0m 2s/step - accuracy: 0.0297 - loss: 4.8906 - top-5-accuracy: 0.1113 - val_accuracy: 0.1118 - val_loss: 3.9047 - val_top-5-accuracy: 0.3074\n",
            "Epoch 2/10\n",
            "\u001b[1m176/176\u001b[0m \u001b[32m━━━━━━━━━━━━━━━━━━━━\u001b[0m\u001b[37m\u001b[0m \u001b[1m388s\u001b[0m 2s/step - accuracy: 0.0873 - loss: 3.9770 - top-5-accuracy: 0.2778 - val_accuracy: 0.1514 - val_loss: 3.6305 - val_top-5-accuracy: 0.3954\n",
            "Epoch 3/10\n",
            "\u001b[1m176/176\u001b[0m \u001b[32m━━━━━━━━━━━━━━━━━━━━\u001b[0m\u001b[37m\u001b[0m \u001b[1m375s\u001b[0m 2s/step - accuracy: 0.1231 - loss: 3.7428 - top-5-accuracy: 0.3448 - val_accuracy: 0.1858 - val_loss: 3.4360 - val_top-5-accuracy: 0.4644\n",
            "Epoch 4/10\n",
            "\u001b[1m176/176\u001b[0m \u001b[32m━━━━━━━━━━━━━━━━━━━━\u001b[0m\u001b[37m\u001b[0m \u001b[1m375s\u001b[0m 2s/step - accuracy: 0.1518 - loss: 3.5678 - top-5-accuracy: 0.4034 - val_accuracy: 0.2182 - val_loss: 3.3041 - val_top-5-accuracy: 0.4908\n",
            "Epoch 5/10\n",
            "\u001b[1m176/176\u001b[0m \u001b[32m━━━━━━━━━━━━━━━━━━━━\u001b[0m\u001b[37m\u001b[0m \u001b[1m375s\u001b[0m 2s/step - accuracy: 0.1730 - loss: 3.4236 - top-5-accuracy: 0.4461 - val_accuracy: 0.2332 - val_loss: 3.1291 - val_top-5-accuracy: 0.5300\n",
            "Epoch 6/10\n",
            "\u001b[1m176/176\u001b[0m \u001b[32m━━━━━━━━━━━━━━━━━━━━\u001b[0m\u001b[37m\u001b[0m \u001b[1m377s\u001b[0m 2s/step - accuracy: 0.1981 - loss: 3.3003 - top-5-accuracy: 0.4820 - val_accuracy: 0.2544 - val_loss: 3.0269 - val_top-5-accuracy: 0.5544\n",
            "Epoch 7/10\n",
            "\u001b[1m176/176\u001b[0m \u001b[32m━━━━━━━━━━━━━━━━━━━━\u001b[0m\u001b[37m\u001b[0m \u001b[1m375s\u001b[0m 2s/step - accuracy: 0.2233 - loss: 3.1588 - top-5-accuracy: 0.5122 - val_accuracy: 0.2804 - val_loss: 2.8879 - val_top-5-accuracy: 0.5778\n",
            "Epoch 8/10\n",
            "\u001b[1m176/176\u001b[0m \u001b[32m━━━━━━━━━━━━━━━━━━━━\u001b[0m\u001b[37m\u001b[0m \u001b[1m375s\u001b[0m 2s/step - accuracy: 0.2463 - loss: 3.0348 - top-5-accuracy: 0.5458 - val_accuracy: 0.3054 - val_loss: 2.8077 - val_top-5-accuracy: 0.5998\n",
            "Epoch 9/10\n",
            "\u001b[1m176/176\u001b[0m \u001b[32m━━━━━━━━━━━━━━━━━━━━\u001b[0m\u001b[37m\u001b[0m \u001b[1m368s\u001b[0m 2s/step - accuracy: 0.2704 - loss: 2.9231 - top-5-accuracy: 0.5781 - val_accuracy: 0.3294 - val_loss: 2.6892 - val_top-5-accuracy: 0.6266\n",
            "Epoch 10/10\n",
            "\u001b[1m176/176\u001b[0m \u001b[32m━━━━━━━━━━━━━━━━━━━━\u001b[0m\u001b[37m\u001b[0m \u001b[1m372s\u001b[0m 2s/step - accuracy: 0.2890 - loss: 2.7922 - top-5-accuracy: 0.6060 - val_accuracy: 0.3364 - val_loss: 2.6063 - val_top-5-accuracy: 0.6430\n",
            "\u001b[1m313/313\u001b[0m \u001b[32m━━━━━━━━━━━━━━━━━━━━\u001b[0m\u001b[37m\u001b[0m \u001b[1m72s\u001b[0m 213ms/step - accuracy: 0.3455 - loss: 2.5809 - top-5-accuracy: 0.6481\n",
            "Test accuracy: 34.21%\n",
            "Test top 5 accuracy: 64.59%\n"
          ]
        },
        {
          "data": {
            "image/png": "[encoded data removed]",
            "text/plain": [
              "<Figure size 640x480 with 1 Axes>"
            ]
          },
          "metadata": {},
          "output_type": "display_data"
        },
        {
          "data": {
            "image/png": "[encoded data removed]",
            "text/plain": [
              "<Figure size 640x480 with 1 Axes>"
            ]
          },
          "metadata": {},
          "output_type": "display_data"
        }
      ],
      "source": [
        "def create_callbacks():\n",
        "    \"\"\"Create advanced callbacks for better training\"\"\"\n",
        "    callbacks = [\n",
        "        # Model checkpoint\n",
        "        keras.callbacks.ModelCheckpoint(\n",
        "            \"/tmp/best_model.weights.h5\",\n",
        "            monitor=\"val_accuracy\",\n",
        "            save_best_only=True,\n",
        "            save_weights_only=True,\n",
        "            verbose=1\n",
        "        ),\n",
        "        \n",
        "        # Early stopping\n",
        "        keras.callbacks.EarlyStopping(\n",
        "            monitor=\"val_accuracy\",\n",
        "            patience=10,\n",
        "            restore_best_weights=True,\n",
        "            verbose=1\n",
        "        ),\n",
        "        \n",
        "        # Reduce learning rate on plateau\n",
        "        keras.callbacks.ReduceLROnPlateau(\n",
        "            monitor=\"val_accuracy\",\n",
        "            factor=0.5,\n",
        "            patience=5,\n",
        "            min_lr=1e-7,\n",
        "            verbose=1\n",
        "        ),\n",
        "        \n",
        "        # Cosine annealing learning rate schedule\n",
        "        keras.callbacks.LearningRateScheduler(\n",
        "            lambda epoch: initial_learning_rate * 0.5 * (1 + np.cos(np.pi * epoch / num_epochs)),\n",
        "            verbose=0\n",
        "        )\n",
        "    ]\n",
        "    return callbacks\n",
        "\n",
        "def run_experiment(model):\n",
        "    # Use AdamW with better parameters\n",
        "    optimizer = keras.optimizers.AdamW(\n",
        "        learning_rate=initial_learning_rate, \n",
        "        weight_decay=weight_decay,\n",
        "        beta_1=0.9,\n",
        "        beta_2=0.999\n",
        "    )\n",
        "\n",
        "    # Compile with label smoothing\n",
        "    model.compile(\n",
        "        optimizer=optimizer,\n",
        "        loss=keras.losses.SparseCategoricalCrossentropy(\n",
        "            from_logits=True, \n",
        "            label_smoothing=label_smoothing\n",
        "        ),\n",
        "        metrics=[\n",
        "            keras.metrics.SparseCategoricalAccuracy(name=\"accuracy\"),\n",
        "            keras.metrics.SparseTopKCategoricalAccuracy(5, name=\"top-5-accuracy\"),\n",
        "        ],\n",
        "    )\n",
        "\n",
        "    # Get callbacks\n",
        "    callbacks = create_callbacks()\n",
        "\n",
        "    # Train the model\n",
        "    history = model.fit(\n",
        "        x=x_train,\n",
        "        y=y_train,\n",
        "        batch_size=batch_size,\n",
        "        epochs=num_epochs,\n",
        "        validation_split=0.15,  # Increased validation split\n",
        "        callbacks=callbacks,\n",
        "        verbose=1\n",
        "    )\n",
        "\n",
        "    # Load best weights\n",
        "    model.load_weights(\"/tmp/best_model.weights.h5\")\n",
        "    \n",
        "    # Evaluate on test set\n",
        "    test_loss, accuracy, top_5_accuracy = model.evaluate(x_test, y_test, verbose=0)\n",
        "    print(f\"\\nFinal Test Results:\")\n",
        "    print(f\"Test accuracy: {round(accuracy * 100, 2)}%\")\n",
        "    print(f\"Test top 5 accuracy: {round(top_5_accuracy * 100, 2)}%\")\n",
        "    print(f\"Test loss: {round(test_loss, 4)}\")\n",
        "\n",
        "    return history\n",
        "\n",
        "\n",
        "# Create and train the enhanced model\n",
        "cnn_classifier = create_cnn_classifier()\n",
        "\n",
        "# Print model summary\n",
        "print(\"Model Architecture:\")\n",
        "cnn_classifier.summary()\n",
        "\n",
        "# Train the model\n",
        "history = run_experiment(cnn_classifier)\n",
        "\n",
        "\n",
        "def plot_training_history(history):\n",
        "    \"\"\"Plot comprehensive training history\"\"\"\n",
        "    fig, axes = plt.subplots(2, 2, figsize=(15, 10))\n",
        "    \n",
        "    # Plot loss\n",
        "    axes[0, 0].plot(history.history['loss'], label='Training Loss')\n",
        "    axes[0, 0].plot(history.history['val_loss'], label='Validation Loss')\n",
        "    axes[0, 0].set_title('Model Loss')\n",
        "    axes[0, 0].set_xlabel('Epoch')\n",
        "    axes[0, 0].set_ylabel('Loss')\n",
        "    axes[0, 0].legend()\n",
        "    axes[0, 0].grid(True)\n",
        "    \n",
        "    # Plot accuracy\n",
        "    axes[0, 1].plot(history.history['accuracy'], label='Training Accuracy')\n",
        "    axes[0, 1].plot(history.history['val_accuracy'], label='Validation Accuracy')\n",
        "    axes[0, 1].set_title('Model Accuracy')\n",
        "    axes[0, 1].set_xlabel('Epoch')\n",
        "    axes[0, 1].set_ylabel('Accuracy')\n",
        "    axes[0, 1].legend()\n",
        "    axes[0, 1].grid(True)\n",
        "    \n",
        "    # Plot top-5 accuracy\n",
        "    axes[1, 0].plot(history.history['top-5-accuracy'], label='Training Top-5 Accuracy')\n",
        "    axes[1, 0].plot(history.history['val_top-5-accuracy'], label='Validation Top-5 Accuracy')\n",
        "    axes[1, 0].set_title('Model Top-5 Accuracy')\n",
        "    axes[1, 0].set_xlabel('Epoch')\n",
        "    axes[1, 0].set_ylabel('Top-5 Accuracy')\n",
        "    axes[1, 0].legend()\n",
        "    axes[1, 0].grid(True)\n",
        "    \n",
        "    # Plot learning rate\n",
        "    if 'lr' in history.history:\n",
        "        axes[1, 1].plot(history.history['lr'])\n",
        "        axes[1, 1].set_title('Learning Rate Schedule')\n",
        "        axes[1, 1].set_xlabel('Epoch')\n",
        "        axes[1, 1].set_ylabel('Learning Rate')\n",
        "        axes[1, 1].set_yscale('log')\n",
        "        axes[1, 1].grid(True)\n",
        "    else:\n",
        "        axes[1, 1].text(0.5, 0.5, 'Learning rate data not available', \n",
        "                       ha='center', va='center', transform=axes[1, 1].transAxes)\n",
        "        axes[1, 1].set_title('Learning Rate Schedule')\n",
        "    \n",
        "    plt.tight_layout()\n",
        "    plt.show()\n",
        "\n",
        "# Plot the training history\n",
        "plot_training_history(history)"
      ]
    },
    {
      "cell_type": "markdown",
      "metadata": {},
      "source": [
        "## Test-Time Augmentation for Further Improvement\n",
        "\n",
        "Test-Time Augmentation (TTA) can provide additional accuracy improvements by averaging predictions across multiple augmented versions of test images."
      ]
    },
    {
      "cell_type": "code",
      "execution_count": null,
      "metadata": {},
      "outputs": [],
      "source": [
        "def test_time_augmentation(model, x_test, num_augmentations=5):\n",
        "    \"\"\"\n",
        "    Perform test-time augmentation for improved accuracy\n",
        "    \"\"\"\n",
        "    print(f\"Performing test-time augmentation with {num_augmentations} augmentations...\")\n",
        "    \n",
        "    # Create a simple augmentation pipeline for TTA\n",
        "    tta_augmentation = keras.Sequential([\n",
        "        layers.RandomFlip(\"horizontal\", seed=42),\n",
        "        layers.RandomRotation(0.05, seed=42),\n",
        "        layers.RandomZoom(0.1, seed=42),\n",
        "    ])\n",
        "    \n",
        "    predictions = []\n",
        "    \n",
        "    # Get predictions for original images\n",
        "    original_pred = model.predict(x_test, verbose=0)\n",
        "    predictions.append(original_pred)\n",
        "    \n",
        "    # Get predictions for augmented versions\n",
        "    for i in range(num_augmentations - 1):\n",
        "        # Apply different random seeds for variety\n",
        "        augmented_test = []\n",
        "        for img in x_test:\n",
        "            aug_img = tta_augmentation(np.expand_dims(img, 0), training=True)\n",
        "            augmented_test.append(aug_img[0])\n",
        "        \n",
        "        augmented_test = np.array(augmented_test)\n",
        "        aug_pred = model.predict(augmented_test, verbose=0)\n",
        "        predictions.append(aug_pred)\n",
        "    \n",
        "    # Average all predictions\n",
        "    avg_predictions = np.mean(predictions, axis=0)\n",
        "    \n",
        "    # Calculate accuracy\n",
        "    predicted_classes = np.argmax(avg_predictions, axis=1)\n",
        "    true_classes = y_test.flatten()\n",
        "    tta_accuracy = np.mean(predicted_classes == true_classes)\n",
        "    \n",
        "    # Calculate top-5 accuracy\n",
        "    top5_predictions = np.argsort(avg_predictions, axis=1)[:, -5:]\n",
        "    tta_top5_accuracy = np.mean([true_classes[i] in top5_predictions[i] for i in range(len(true_classes))])\n",
        "    \n",
        "    print(f\"Test-Time Augmentation Results:\")\n",
        "    print(f\"TTA Accuracy: {round(tta_accuracy * 100, 2)}%\")\n",
        "    print(f\"TTA Top-5 Accuracy: {round(tta_top5_accuracy * 100, 2)}%\")\n",
        "    \n",
        "    return avg_predictions, tta_accuracy, tta_top5_accuracy\n",
        "\n",
        "# Apply test-time augmentation\n",
        "tta_predictions, tta_acc, tta_top5_acc = test_time_augmentation(cnn_classifier, x_test)\n",
        "\n",
        "# Compare with regular prediction\n",
        "regular_predictions = cnn_classifier.predict(x_test, verbose=0)\n",
        "regular_acc = np.mean(np.argmax(regular_predictions, axis=1) == y_test.flatten())\n",
        "\n",
        "print(f\"\\nComparison:\")\n",
        "print(f\"Regular Test Accuracy: {round(regular_acc * 100, 2)}%\")\n",
        "print(f\"TTA Test Accuracy: {round(tta_acc * 100, 2)}%\")\n",
        "print(f\"Improvement: +{round((tta_acc - regular_acc) * 100, 2)}%\")"
      ]
    }
  ],
  "metadata": {
    "accelerator": "GPU",
    "colab": {
      "name": "image_classification_with_vision_transformer",
      "provenance": [],
      "toc_visible": true
    },
    "kernelspec": {
      "display_name": "Python 3",
      "language": "python",
      "name": "python3"
    },
    "language_info": {
      "codemirror_mode": {
        "name": "ipython",
        "version": 3
      },
      "file_extension": ".py",
      "mimetype": "text/x-python",
      "name": "python",
      "nbconvert_exporter": "python",
      "pygments_lexer": "ipython3",
      "version": "3.7.0"
    }
  },
  "nbformat": 4,
  "nbformat_minor": 0
}
